{
 "cells": [
  {
   "cell_type": "code",
   "execution_count": 1,
   "metadata": {},
   "outputs": [],
   "source": [
    "import numpy as np\n",
    "import pandas as pd\n",
    "import datetime as dt\n",
    "import matplotlib.pyplot as plt\n",
    "from sklearn.linear_model import LinearRegression\n",
    "from sklearn.model_selection import train_test_split\n",
    "from sklearn.metrics import r2_score, mean_squared_error"
   ]
  },
  {
   "cell_type": "code",
   "execution_count": 2,
   "metadata": {},
   "outputs": [],
   "source": [
    "# read data \n",
    "calendar_df = pd.read_csv(\"/Users/khou/Desktop/DS/seattle/calendar.csv\")\n",
    "listings_df = pd.read_csv(\"/Users/khou/Desktop/DS/seattle/listings.csv\")\n",
    "reviews_df = pd.read_csv(\"/Users/khou/Desktop/DS/seattle/reviews.csv\")"
   ]
  },
  {
   "cell_type": "code",
   "execution_count": 3,
   "metadata": {},
   "outputs": [
    {
     "name": "stdout",
     "output_type": "stream",
     "text": [
      "listing_id             int64\n",
      "date          datetime64[ns]\n",
      "available             object\n",
      "price                float64\n",
      "dtype: object\n",
      "2016-01-04 00:00:00 2017-01-02 00:00:00\n"
     ]
    },
    {
     "data": {
      "text/plain": [
       "listing_id         0\n",
       "date               0\n",
       "available          0\n",
       "price         459028\n",
       "dtype: int64"
      ]
     },
     "execution_count": 3,
     "metadata": {},
     "output_type": "execute_result"
    }
   ],
   "source": [
    "# data overview for calendar_df\n",
    "\n",
    "#clean up columns type for calendar_df\n",
    "calendar_df['date']= pd.to_datetime(calendar_df['date'])\n",
    "calendar_df['price'] = calendar_df['price'].replace('[\\$,]', '', regex=True).astype(float)\n",
    "# check column types\n",
    "print(calendar_df.dtypes)\n",
    "# check the time span of the listings\n",
    "print(min(calendar_df['date']), max(calendar_df['date']))\n",
    "# check the number of listings: 3818\n",
    "calendar_df.listing_id.nunique()\n",
    "# check for missing values: only price column has missing values, which is expected\n",
    "calendar_df.isnull().sum()"
   ]
  },
  {
   "cell_type": "code",
   "execution_count": 4,
   "metadata": {},
   "outputs": [
    {
     "name": "stdout",
     "output_type": "stream",
     "text": [
      "2016-01-04 00:00:00 2017-01-02 00:00:00\n"
     ]
    }
   ],
   "source": [
    "print(min(calendar_df['date']), max(calendar_df['date']))"
   ]
  },
  {
   "cell_type": "code",
   "execution_count": 5,
   "metadata": {},
   "outputs": [
    {
     "name": "stdout",
     "output_type": "stream",
     "text": [
      "id :  int64\n",
      "listing_url :  object\n",
      "scrape_id :  int64\n",
      "last_scraped :  datetime64[ns]\n",
      "name :  object\n",
      "summary :  object\n",
      "space :  object\n",
      "description :  object\n",
      "experiences_offered :  object\n",
      "neighborhood_overview :  object\n",
      "notes :  object\n",
      "transit :  object\n",
      "thumbnail_url :  object\n",
      "medium_url :  object\n",
      "picture_url :  object\n",
      "xl_picture_url :  object\n",
      "host_id :  int64\n",
      "host_url :  object\n",
      "host_name :  object\n",
      "host_since :  datetime64[ns]\n",
      "host_location :  object\n",
      "host_about :  object\n",
      "host_response_time :  object\n",
      "host_response_rate :  float64\n",
      "host_acceptance_rate :  float64\n",
      "host_is_superhost :  object\n",
      "host_thumbnail_url :  object\n",
      "host_picture_url :  object\n",
      "host_neighbourhood :  object\n",
      "host_listings_count :  float64\n",
      "host_total_listings_count :  float64\n",
      "host_verifications :  object\n",
      "host_has_profile_pic :  object\n",
      "host_identity_verified :  object\n",
      "street :  object\n",
      "neighbourhood :  object\n",
      "neighbourhood_cleansed :  object\n",
      "neighbourhood_group_cleansed :  object\n",
      "city :  object\n",
      "state :  object\n",
      "zipcode :  object\n",
      "market :  object\n",
      "smart_location :  object\n",
      "country_code :  object\n",
      "country :  object\n",
      "latitude :  float64\n",
      "longitude :  float64\n",
      "is_location_exact :  object\n",
      "property_type :  object\n",
      "room_type :  object\n",
      "accommodates :  int64\n",
      "bathrooms :  float64\n",
      "bedrooms :  float64\n",
      "beds :  float64\n",
      "bed_type :  object\n",
      "amenities :  object\n",
      "square_feet :  float64\n",
      "price :  float64\n",
      "weekly_price :  float64\n",
      "monthly_price :  float64\n",
      "security_deposit :  float64\n",
      "cleaning_fee :  float64\n",
      "guests_included :  int64\n",
      "extra_people :  object\n",
      "minimum_nights :  int64\n",
      "maximum_nights :  int64\n",
      "calendar_updated :  object\n",
      "has_availability :  object\n",
      "availability_30 :  int64\n",
      "availability_60 :  int64\n",
      "availability_90 :  int64\n",
      "availability_365 :  int64\n",
      "calendar_last_scraped :  object\n",
      "number_of_reviews :  int64\n",
      "first_review :  object\n",
      "last_review :  object\n",
      "review_scores_rating :  float64\n",
      "review_scores_accuracy :  float64\n",
      "review_scores_cleanliness :  float64\n",
      "review_scores_checkin :  float64\n",
      "review_scores_communication :  float64\n",
      "review_scores_location :  float64\n",
      "review_scores_value :  float64\n",
      "requires_license :  object\n",
      "license :  float64\n",
      "jurisdiction_names :  object\n",
      "instant_bookable :  object\n",
      "cancellation_policy :  object\n",
      "require_guest_profile_picture :  object\n",
      "require_guest_phone_verification :  object\n",
      "calculated_host_listings_count :  int64\n",
      "reviews_per_month :  float64\n",
      "summary :  177\n",
      "space :  569\n",
      "neighborhood_overview :  1032\n",
      "notes :  1606\n",
      "transit :  934\n",
      "thumbnail_url :  320\n",
      "medium_url :  320\n",
      "xl_picture_url :  320\n",
      "host_name :  2\n",
      "host_since :  2\n",
      "host_location :  8\n",
      "host_about :  859\n",
      "host_response_time :  523\n",
      "host_response_rate :  523\n",
      "host_acceptance_rate :  773\n",
      "host_is_superhost :  2\n",
      "host_thumbnail_url :  2\n",
      "host_picture_url :  2\n",
      "host_neighbourhood :  300\n",
      "host_listings_count :  2\n",
      "host_total_listings_count :  2\n",
      "host_has_profile_pic :  2\n",
      "host_identity_verified :  2\n",
      "neighbourhood :  416\n",
      "zipcode :  7\n",
      "property_type :  1\n",
      "bathrooms :  16\n",
      "bedrooms :  6\n",
      "beds :  1\n",
      "square_feet :  3721\n",
      "weekly_price :  1809\n",
      "monthly_price :  2301\n",
      "security_deposit :  1952\n",
      "cleaning_fee :  1030\n",
      "first_review :  627\n",
      "last_review :  627\n",
      "review_scores_rating :  647\n",
      "review_scores_accuracy :  658\n",
      "review_scores_cleanliness :  653\n",
      "review_scores_checkin :  658\n",
      "review_scores_communication :  651\n",
      "review_scores_location :  655\n",
      "review_scores_value :  656\n",
      "license :  3818\n",
      "reviews_per_month :  627\n"
     ]
    }
   ],
   "source": [
    "# data overview for listings_df\n",
    "\n",
    "# clean up column types for listings_df\n",
    "listings_df['last_scraped'] = pd.to_datetime(listings_df['last_scraped'])\n",
    "listings_df['host_since'] = pd.to_datetime(listings_df['host_since'])\n",
    "listings_df['host_response_rate'] = listings_df['host_response_rate'].str.rstrip('%').astype('float') / 100\n",
    "listings_df['host_acceptance_rate'] = listings_df['host_acceptance_rate'].str.rstrip('%').astype('float') / 100\n",
    "listings_df['price'] = listings_df['price'].replace('[\\$,]', '', regex = True).astype(float)\n",
    "listings_df['weekly_price'] = listings_df['weekly_price'].replace('[\\$,]', '', regex = True).astype(float)\n",
    "listings_df['monthly_price'] = listings_df['monthly_price'].replace('[\\$,]', '', regex = True).astype(float)\n",
    "listings_df['security_deposit'] = listings_df['security_deposit'].replace('[\\$,]', '', regex = True).astype(float)\n",
    "listings_df['cleaning_fee'] = listings_df['cleaning_fee'].replace('[\\$,]', '', regex = True).astype(float)\n",
    "# check that the column types are as expected\n",
    "for col in listings_df.columns:\n",
    "    print(col, ': ' , listings_df[col].dtypes)\n",
    "    \n",
    "# check for missing values\n",
    "for col in listings_df.columns[listings_df.isnull().mean() != 0]:\n",
    "    print(col, ': ', listings_df[col].isnull().sum().round(2)) # consider deleting square_feet"
   ]
  },
  {
   "cell_type": "code",
   "execution_count": 6,
   "metadata": {},
   "outputs": [
    {
     "name": "stdout",
     "output_type": "stream",
     "text": [
      "(84849, 6)\n",
      "2009-06-07 00:00:00 2016-01-03 00:00:00\n",
      "listing_id                int64\n",
      "id                        int64\n",
      "date             datetime64[ns]\n",
      "reviewer_id               int64\n",
      "reviewer_name            object\n",
      "comments                 object\n",
      "dtype: object\n"
     ]
    },
    {
     "data": {
      "text/html": [
       "<div>\n",
       "<style scoped>\n",
       "    .dataframe tbody tr th:only-of-type {\n",
       "        vertical-align: middle;\n",
       "    }\n",
       "\n",
       "    .dataframe tbody tr th {\n",
       "        vertical-align: top;\n",
       "    }\n",
       "\n",
       "    .dataframe thead th {\n",
       "        text-align: right;\n",
       "    }\n",
       "</style>\n",
       "<table border=\"1\" class=\"dataframe\">\n",
       "  <thead>\n",
       "    <tr style=\"text-align: right;\">\n",
       "      <th></th>\n",
       "      <th>listing_id</th>\n",
       "      <th>id</th>\n",
       "      <th>date</th>\n",
       "      <th>reviewer_id</th>\n",
       "      <th>reviewer_name</th>\n",
       "      <th>comments</th>\n",
       "    </tr>\n",
       "  </thead>\n",
       "  <tbody>\n",
       "    <tr>\n",
       "      <td>0</td>\n",
       "      <td>7202016</td>\n",
       "      <td>38917982</td>\n",
       "      <td>2015-07-19</td>\n",
       "      <td>28943674</td>\n",
       "      <td>Bianca</td>\n",
       "      <td>Cute and cozy place. Perfect location to every...</td>\n",
       "    </tr>\n",
       "    <tr>\n",
       "      <td>1</td>\n",
       "      <td>7202016</td>\n",
       "      <td>39087409</td>\n",
       "      <td>2015-07-20</td>\n",
       "      <td>32440555</td>\n",
       "      <td>Frank</td>\n",
       "      <td>Kelly has a great room in a very central locat...</td>\n",
       "    </tr>\n",
       "    <tr>\n",
       "      <td>2</td>\n",
       "      <td>7202016</td>\n",
       "      <td>39820030</td>\n",
       "      <td>2015-07-26</td>\n",
       "      <td>37722850</td>\n",
       "      <td>Ian</td>\n",
       "      <td>Very spacious apartment, and in a great neighb...</td>\n",
       "    </tr>\n",
       "    <tr>\n",
       "      <td>3</td>\n",
       "      <td>7202016</td>\n",
       "      <td>40813543</td>\n",
       "      <td>2015-08-02</td>\n",
       "      <td>33671805</td>\n",
       "      <td>George</td>\n",
       "      <td>Close to Seattle Center and all it has to offe...</td>\n",
       "    </tr>\n",
       "    <tr>\n",
       "      <td>4</td>\n",
       "      <td>7202016</td>\n",
       "      <td>41986501</td>\n",
       "      <td>2015-08-10</td>\n",
       "      <td>34959538</td>\n",
       "      <td>Ming</td>\n",
       "      <td>Kelly was a great host and very accommodating ...</td>\n",
       "    </tr>\n",
       "  </tbody>\n",
       "</table>\n",
       "</div>"
      ],
      "text/plain": [
       "   listing_id        id       date  reviewer_id reviewer_name  \\\n",
       "0     7202016  38917982 2015-07-19     28943674        Bianca   \n",
       "1     7202016  39087409 2015-07-20     32440555         Frank   \n",
       "2     7202016  39820030 2015-07-26     37722850           Ian   \n",
       "3     7202016  40813543 2015-08-02     33671805        George   \n",
       "4     7202016  41986501 2015-08-10     34959538          Ming   \n",
       "\n",
       "                                            comments  \n",
       "0  Cute and cozy place. Perfect location to every...  \n",
       "1  Kelly has a great room in a very central locat...  \n",
       "2  Very spacious apartment, and in a great neighb...  \n",
       "3  Close to Seattle Center and all it has to offe...  \n",
       "4  Kelly was a great host and very accommodating ...  "
      ]
     },
     "execution_count": 6,
     "metadata": {},
     "output_type": "execute_result"
    }
   ],
   "source": [
    "# data overview for reviews_df\n",
    "\n",
    "# clean up column types for listings_df\n",
    "print(reviews_df.shape)\n",
    "reviews_df['date'] = pd.to_datetime(reviews_df['date'])\n",
    "print(min(reviews_df['date']), max(reviews_df['date']))\n",
    "print(reviews_df.dtypes)\n",
    "reviews_df.head()"
   ]
  },
  {
   "cell_type": "code",
   "execution_count": 7,
   "metadata": {},
   "outputs": [
    {
     "name": "stdout",
     "output_type": "stream",
     "text": [
      "0.00021214156914047309\n"
     ]
    }
   ],
   "source": [
    "print(reviews_df['comments'].isnull().mean()) ## consider deleting the NA value since its a very small portion"
   ]
  },
  {
   "cell_type": "code",
   "execution_count": 8,
   "metadata": {},
   "outputs": [
    {
     "data": {
      "text/plain": [
       "Text(0, 0.5, 'Number of Listings')"
      ]
     },
     "execution_count": 8,
     "metadata": {},
     "output_type": "execute_result"
    },
    {
     "data": {
      "image/png": "[encoded data removed]",
      "text/plain": [
       "<Figure size 1008x576 with 1 Axes>"
      ]
     },
     "metadata": {
      "needs_background": "light"
     },
     "output_type": "display_data"
    }
   ],
   "source": [
    "# question 1: Is there a general upward trend of both new Airbnb listings and total Airbnb visitors to Seattle?\n",
    "# supply side(listings): check \"host_since\"\n",
    "listings_df['listing_month'] = (listings_df['last_scraped'] - listings_df['host_since'])/ np.timedelta64(1, 'M')\n",
    "listings_df['listing_age'] = np.where(listings_df['listing_month'] < 24, \n",
    "                                      'less than 2 years', \n",
    "                                      np.where((listings_df['listing_month'] >= 24) & \n",
    "                                               (listings_df['listing_month'] < 48),\n",
    "                                              '2-4 years',\n",
    "                                              np.where((listings_df['listing_month'] >= 48) & \n",
    "                                                       (listings_df['listing_month'] < 72),\n",
    "                                                       '4-6 years', 'more than 6 years')))\n",
    "ax = listings_df['listing_age'].value_counts().plot(kind='bar',\n",
    "                                    figsize=(14,8),\n",
    "                                    title=\"Airbnb Seattle: Number of Listings By Active Years\")\n",
    "ax.set_xlabel(\"How long the listings have been active\")\n",
    "ax.set_ylabel(\"Number of Listings\")\n",
    "\n"
   ]
  },
  {
   "cell_type": "code",
   "execution_count": 9,
   "metadata": {},
   "outputs": [
    {
     "data": {
      "text/plain": [
       "Text(0, 0.5, 'Number of Reviews')"
      ]
     },
     "execution_count": 9,
     "metadata": {},
     "output_type": "execute_result"
    },
    {
     "data": {
      "image/png": "[encoded data removed]",
      "text/plain": [
       "<Figure size 432x288 with 1 Axes>"
      ]
     },
     "metadata": {
      "needs_background": "light"
     },
     "output_type": "display_data"
    }
   ],
   "source": [
    "# question 1: Is there a general upward trend of both new Airbnb listings and total Airbnb visitors to Seattle?\n",
    "\n",
    "# demand side(reviews): check count of reviews over time\n",
    "reviews_df['year_month'] = reviews_df['date'].dt.strftime('%Y-%m')\n",
    "rvw_cnt_ts = reviews_df.groupby(['year_month']).size().reset_index(name = 'counts').set_index('year_month').plot()\n",
    "rvw_cnt_ts.set_xlabel(\"Month\")\n",
    "rvw_cnt_ts.set_ylabel(\"Number of Reviews\")\n"
   ]
  },
  {
   "cell_type": "code",
   "execution_count": 10,
   "metadata": {},
   "outputs": [
    {
     "data": {
      "text/plain": [
       "Text(0, 0.5, 'Number of Available Listings')"
      ]
     },
     "execution_count": 10,
     "metadata": {},
     "output_type": "execute_result"
    },
    {
     "data": {
      "image/png": "[encoded data removed]",
      "text/plain": [
       "<Figure size 432x288 with 1 Axes>"
      ]
     },
     "metadata": {
      "needs_background": "light"
     },
     "output_type": "display_data"
    }
   ],
   "source": [
    "# question 2: when is the busiest season to rent for maximum revenue and when is the off-peak season for maintenance?\n",
    "\n",
    "calendar_count_df = calendar_df.loc[calendar_df['available'] == 't'].groupby('date').listing_id.nunique().reset_index()\n",
    "calendar_count_df.columns = ['date', 'day_count']\n",
    "calendar_count_df.set_index('date', inplace=True)\n",
    "\n",
    "\n",
    "weekly_resampled = calendar_count_df.day_count.resample('W').mean()\n",
    "weekly_resampled.columns = ['weekly_avg']\n",
    "weekly_plot = weekly_resampled.plot(title=\"Number of Available Listings: Weekly Average\")\n",
    "weekly_plot.set_xlabel(\"Date\")\n",
    "weekly_plot.set_ylabel(\"Number of Available Listings\")"
   ]
  },
  {
   "cell_type": "code",
   "execution_count": 12,
   "metadata": {},
   "outputs": [
    {
     "data": {
      "text/plain": [
       "Text(0.5, 0, 'Month')"
      ]
     },
     "execution_count": 12,
     "metadata": {},
     "output_type": "execute_result"
    },
    {
     "data": {
      "image/png": "[encoded data removed]",
      "text/plain": [
       "<Figure size 432x288 with 1 Axes>"
      ]
     },
     "metadata": {
      "needs_background": "light"
     },
     "output_type": "display_data"
    }
   ],
   "source": [
    "reviews_df['month']= reviews_df['date'].dt.month\n",
    "rvw_cnt = reviews_df.groupby(['month']).size().reset_index(name = 'counts')\n",
    "rvw_cnt.plot.bar(x = 'month', y='counts', rot=0,title=\"Reviews by Month\").set_xlabel(\"Month\")\n"
   ]
  },
  {
   "cell_type": "code",
   "execution_count": 14,
   "metadata": {},
   "outputs": [],
   "source": [
    "# question 3: what factors are related to price?\n",
    "# we build a model to predict the price for each listing### deal with missing values and categorical variables\n",
    "# Drop rows with missing price values\n",
    "listings_df_orig = listings_df\n",
    "listings_df = listings_df.dropna(subset=['price'], axis=0)\n",
    "y = listings_df['price']\n",
    "listings_df = listings_df[['space',\n",
    "                           'host_acceptance_rate', \n",
    "                           'host_listings_count',\n",
    "                               'accommodates', \n",
    "                               'bathrooms', \n",
    "                               'bedrooms', \n",
    "                               'beds', \n",
    "                               'guests_included', \n",
    "                               'review_scores_rating',\n",
    "                               'review_scores_accuracy',\n",
    "                               'review_scores_cleanliness',\n",
    "                               'review_scores_checkin',\n",
    "                               'review_scores_communication',\n",
    "                               'review_scores_location',\n",
    "                               'review_scores_value',\n",
    "                               'reviews_per_month',\n",
    "                               'host_response_time',\n",
    "                               'host_is_superhost',\n",
    "                               'host_identity_verified',\n",
    "                               'neighbourhood_group_cleansed',\n",
    "                               'property_type',\n",
    "                               'room_type',\n",
    "                               'bed_type',               \n",
    "                               'cancellation_policy',\n",
    "                               'require_guest_profile_picture',\n",
    "                               'require_guest_phone_verification']]\n",
    "# Fill numeric columns with the mean\n",
    "num_vars = listings_df.select_dtypes(include=['float', 'int']).columns\n",
    "for col in num_vars:\n",
    "    listings_df[col].fillna((listings_df[col].mean()), inplace=True)\n",
    "        \n",
    "# Dummy the categorical variables\n",
    "cat_vars = listings_df.select_dtypes(include=['object']).copy().columns\n",
    "for var in cat_vars:\n",
    "    # for each cat add dummy var, drop original column\n",
    "    listings_df = pd.concat([listings_df.drop(var, axis=1), pd.get_dummies(listings_df[var], prefix=var, prefix_sep='_', drop_first=True)], axis=1)\n",
    "X = listings_df\n",
    "\n"
   ]
  },
  {
   "cell_type": "code",
   "execution_count": 15,
   "metadata": {},
   "outputs": [
    {
     "data": {
      "text/plain": [
       "LinearRegression(copy_X=True, fit_intercept=True, n_jobs=None, normalize=True)"
      ]
     },
     "execution_count": 15,
     "metadata": {},
     "output_type": "execute_result"
    }
   ],
   "source": [
    "X_train, X_test, y_train, y_test = train_test_split(X, y, test_size = .30, random_state=42)\n",
    "lm_model = LinearRegression(normalize=True) \n",
    "lm_model.fit(X_train, y_train) "
   ]
  },
  {
   "cell_type": "code",
   "execution_count": 17,
   "metadata": {},
   "outputs": [
    {
     "data": {
      "text/html": [
       "<div>\n",
       "<style scoped>\n",
       "    .dataframe tbody tr th:only-of-type {\n",
       "        vertical-align: middle;\n",
       "    }\n",
       "\n",
       "    .dataframe tbody tr th {\n",
       "        vertical-align: top;\n",
       "    }\n",
       "\n",
       "    .dataframe thead th {\n",
       "        text-align: right;\n",
       "    }\n",
       "</style>\n",
       "<table border=\"1\" class=\"dataframe\">\n",
       "  <thead>\n",
       "    <tr style=\"text-align: right;\">\n",
       "      <th></th>\n",
       "      <th>est_int</th>\n",
       "      <th>coefs</th>\n",
       "      <th>abs_coefs</th>\n",
       "    </tr>\n",
       "  </thead>\n",
       "  <tbody>\n",
       "    <tr>\n",
       "      <td>222</td>\n",
       "      <td>space_A nice homey-feeling place on top of Que...</td>\n",
       "      <td>-1.329616e+17</td>\n",
       "      <td>1.329616e+17</td>\n",
       "    </tr>\n",
       "    <tr>\n",
       "      <td>177</td>\n",
       "      <td>space_A Seattle Times featured Home- New unobs...</td>\n",
       "      <td>-1.190452e+17</td>\n",
       "      <td>1.190452e+17</td>\n",
       "    </tr>\n",
       "    <tr>\n",
       "      <td>801</td>\n",
       "      <td>space_History: This secret hideout is a blast ...</td>\n",
       "      <td>-1.152071e+17</td>\n",
       "      <td>1.152071e+17</td>\n",
       "    </tr>\n",
       "    <tr>\n",
       "      <td>586</td>\n",
       "      <td>space_EXCELLENT LOCATION MEANS FREEDOM IN SEAT...</td>\n",
       "      <td>1.124516e+17</td>\n",
       "      <td>1.124516e+17</td>\n",
       "    </tr>\n",
       "    <tr>\n",
       "      <td>1211</td>\n",
       "      <td>space_Newly decorated guest room, with garden ...</td>\n",
       "      <td>1.112494e+17</td>\n",
       "      <td>1.112494e+17</td>\n",
       "    </tr>\n",
       "    <tr>\n",
       "      <td>287</td>\n",
       "      <td>space_Amazing views over the ocean, islands an...</td>\n",
       "      <td>-9.697754e+16</td>\n",
       "      <td>9.697754e+16</td>\n",
       "    </tr>\n",
       "    <tr>\n",
       "      <td>296</td>\n",
       "      <td>space_Apartment is right on Broadway - a very ...</td>\n",
       "      <td>-9.364150e+16</td>\n",
       "      <td>9.364150e+16</td>\n",
       "    </tr>\n",
       "    <tr>\n",
       "      <td>239</td>\n",
       "      <td>space_A ten minute walk to downtown Ballard.</td>\n",
       "      <td>9.354180e+16</td>\n",
       "      <td>9.354180e+16</td>\n",
       "    </tr>\n",
       "    <tr>\n",
       "      <td>1196</td>\n",
       "      <td>space_Need more space? This is the Place!  Thi...</td>\n",
       "      <td>8.815161e+16</td>\n",
       "      <td>8.815161e+16</td>\n",
       "    </tr>\n",
       "    <tr>\n",
       "      <td>1210</td>\n",
       "      <td>space_Newly built and beautifully designed, th...</td>\n",
       "      <td>8.664164e+16</td>\n",
       "      <td>8.664164e+16</td>\n",
       "    </tr>\n",
       "    <tr>\n",
       "      <td>157</td>\n",
       "      <td>space_4 beds (3 queen, 1 twin), 3 bedrooms, 3 ...</td>\n",
       "      <td>8.540920e+16</td>\n",
       "      <td>8.540920e+16</td>\n",
       "    </tr>\n",
       "    <tr>\n",
       "      <td>136</td>\n",
       "      <td>space_2 bedrooms, one of which has a walk-in c...</td>\n",
       "      <td>8.411685e+16</td>\n",
       "      <td>8.411685e+16</td>\n",
       "    </tr>\n",
       "    <tr>\n",
       "      <td>793</td>\n",
       "      <td>space_Hi! We are Jana and Nick and we'd love t...</td>\n",
       "      <td>8.277378e+16</td>\n",
       "      <td>8.277378e+16</td>\n",
       "    </tr>\n",
       "    <tr>\n",
       "      <td>483</td>\n",
       "      <td>space_Come and enjoy the beautiful, central ne...</td>\n",
       "      <td>-7.798392e+16</td>\n",
       "      <td>7.798392e+16</td>\n",
       "    </tr>\n",
       "    <tr>\n",
       "      <td>173</td>\n",
       "      <td>space_A 1903, Victorian home with four unique ...</td>\n",
       "      <td>-7.753043e+16</td>\n",
       "      <td>7.753043e+16</td>\n",
       "    </tr>\n",
       "  </tbody>\n",
       "</table>\n",
       "</div>"
      ],
      "text/plain": [
       "                                                est_int         coefs  \\\n",
       "222   space_A nice homey-feeling place on top of Que... -1.329616e+17   \n",
       "177   space_A Seattle Times featured Home- New unobs... -1.190452e+17   \n",
       "801   space_History: This secret hideout is a blast ... -1.152071e+17   \n",
       "586   space_EXCELLENT LOCATION MEANS FREEDOM IN SEAT...  1.124516e+17   \n",
       "1211  space_Newly decorated guest room, with garden ...  1.112494e+17   \n",
       "287   space_Amazing views over the ocean, islands an... -9.697754e+16   \n",
       "296   space_Apartment is right on Broadway - a very ... -9.364150e+16   \n",
       "239        space_A ten minute walk to downtown Ballard.  9.354180e+16   \n",
       "1196  space_Need more space? This is the Place!  Thi...  8.815161e+16   \n",
       "1210  space_Newly built and beautifully designed, th...  8.664164e+16   \n",
       "157   space_4 beds (3 queen, 1 twin), 3 bedrooms, 3 ...  8.540920e+16   \n",
       "136   space_2 bedrooms, one of which has a walk-in c...  8.411685e+16   \n",
       "793   space_Hi! We are Jana and Nick and we'd love t...  8.277378e+16   \n",
       "483   space_Come and enjoy the beautiful, central ne... -7.798392e+16   \n",
       "173   space_A 1903, Victorian home with four unique ... -7.753043e+16   \n",
       "\n",
       "         abs_coefs  \n",
       "222   1.329616e+17  \n",
       "177   1.190452e+17  \n",
       "801   1.152071e+17  \n",
       "586   1.124516e+17  \n",
       "1211  1.112494e+17  \n",
       "287   9.697754e+16  \n",
       "296   9.364150e+16  \n",
       "239   9.354180e+16  \n",
       "1196  8.815161e+16  \n",
       "1210  8.664164e+16  \n",
       "157   8.540920e+16  \n",
       "136   8.411685e+16  \n",
       "793   8.277378e+16  \n",
       "483   7.798392e+16  \n",
       "173   7.753043e+16  "
      ]
     },
     "execution_count": 17,
     "metadata": {},
     "output_type": "execute_result"
    }
   ],
   "source": [
    "def coef_weights(coefficients, X_train):\n",
    "    '''\n",
    "    INPUT:\n",
    "    coefficients - the coefficients of the linear model \n",
    "    X_train - the training data, so the column names can be used\n",
    "    OUTPUT:\n",
    "    coefs_df - a dataframe holding the coefficient, estimate, and abs(estimate)\n",
    "    \n",
    "    Provides a dataframe that can be used to understand the most influential coefficients\n",
    "    in a linear model by providing the coefficient estimates along with the name of the \n",
    "    variable attached to the coefficient.\n",
    "    '''\n",
    "    coefs_df = pd.DataFrame()\n",
    "    coefs_df['est_int'] = X_train.columns\n",
    "    coefs_df['coefs'] = lm_model.coef_\n",
    "    coefs_df['abs_coefs'] = np.abs(lm_model.coef_)\n",
    "    coefs_df = coefs_df.sort_values('abs_coefs', ascending=False)\n",
    "    return coefs_df\n",
    "\n",
    "#Use the function\n",
    "coef_df = coef_weights(lm_model.coef_, X_train)\n",
    "\n",
    "#A quick look at the top results\n",
    "coef_df.head(15)"
   ]
  },
  {
   "cell_type": "code",
   "execution_count": null,
   "metadata": {},
   "outputs": [],
   "source": []
  }
 ],
 "metadata": {
  "kernelspec": {
   "display_name": "Python 3",
   "language": "python",
   "name": "python3"
  },
  "language_info": {
   "codemirror_mode": {
    "name": "ipython",
    "version": 3
   },
   "file_extension": ".py",
   "mimetype": "text/x-python",
   "name": "python",
   "nbconvert_exporter": "python",
   "pygments_lexer": "ipython3",
   "version": "3.7.4"
  }
 },
 "nbformat": 4,
 "nbformat_minor": 2
}
